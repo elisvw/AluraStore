{
  "nbformat": 4,
  "nbformat_minor": 0,
  "metadata": {
    "colab": {
      "provenance": []
    },
    "kernelspec": {
      "name": "python3",
      "display_name": "Python 3"
    },
    "language_info": {
      "name": "python"
    }
  },
  "cells": [
    {
      "cell_type": "markdown",
      "source": [
        "### Importação dos dados\n",
        "\n"
      ],
      "metadata": {
        "id": "RhEdWd9YUR6H"
      }
    },
    {
      "cell_type": "code",
      "execution_count": 1,
      "metadata": {
        "colab": {
          "base_uri": "https://localhost:8080/",
          "height": 293
        },
        "id": "T3EvaeQ_INIL",
        "outputId": "9df81967-3e7a-467e-8a87-794b1c46a973"
      },
      "outputs": [
        {
          "output_type": "execute_result",
          "data": {
            "text/plain": [
              "                 Produto Categoria do Produto    Preço      Frete  \\\n",
              "0     Assistente virtual          eletronicos   219.08   9.249790   \n",
              "1         Mesa de jantar               moveis   256.35  11.234305   \n",
              "2      Jogo de tabuleiro           brinquedos   279.51  21.262681   \n",
              "3            Micro-ondas     eletrodomesticos  1009.99  54.667344   \n",
              "4  Cadeira de escritório               moveis   446.99  26.964689   \n",
              "\n",
              "  Data da Compra        Vendedor Local da compra  Avaliação da compra  \\\n",
              "0     16/01/2021     Pedro Gomes              SP                    4   \n",
              "1     18/05/2022  Beatriz Moraes              RJ                    1   \n",
              "2     15/03/2021      João Souza              DF                    1   \n",
              "3     03/05/2022      João Souza              RS                    4   \n",
              "4     07/11/2020   Larissa Alves              MG                    5   \n",
              "\n",
              "  Tipo de pagamento  Quantidade de parcelas    lat    lon  \n",
              "0    cartao_credito                       8 -22.19 -48.79  \n",
              "1    cartao_credito                       4 -22.25 -42.66  \n",
              "2    cartao_credito                       1 -15.83 -47.86  \n",
              "3            boleto                       1 -30.17 -53.50  \n",
              "4            boleto                       1 -18.10 -44.38  "
            ],
            "text/html": [
              "\n",
              "  <div id=\"df-185e4709-d47f-44a0-822d-07eca3b24954\" class=\"colab-df-container\">\n",
              "    <div>\n",
              "<style scoped>\n",
              "    .dataframe tbody tr th:only-of-type {\n",
              "        vertical-align: middle;\n",
              "    }\n",
              "\n",
              "    .dataframe tbody tr th {\n",
              "        vertical-align: top;\n",
              "    }\n",
              "\n",
              "    .dataframe thead th {\n",
              "        text-align: right;\n",
              "    }\n",
              "</style>\n",
              "<table border=\"1\" class=\"dataframe\">\n",
              "  <thead>\n",
              "    <tr style=\"text-align: right;\">\n",
              "      <th></th>\n",
              "      <th>Produto</th>\n",
              "      <th>Categoria do Produto</th>\n",
              "      <th>Preço</th>\n",
              "      <th>Frete</th>\n",
              "      <th>Data da Compra</th>\n",
              "      <th>Vendedor</th>\n",
              "      <th>Local da compra</th>\n",
              "      <th>Avaliação da compra</th>\n",
              "      <th>Tipo de pagamento</th>\n",
              "      <th>Quantidade de parcelas</th>\n",
              "      <th>lat</th>\n",
              "      <th>lon</th>\n",
              "    </tr>\n",
              "  </thead>\n",
              "  <tbody>\n",
              "    <tr>\n",
              "      <th>0</th>\n",
              "      <td>Assistente virtual</td>\n",
              "      <td>eletronicos</td>\n",
              "      <td>219.08</td>\n",
              "      <td>9.249790</td>\n",
              "      <td>16/01/2021</td>\n",
              "      <td>Pedro Gomes</td>\n",
              "      <td>SP</td>\n",
              "      <td>4</td>\n",
              "      <td>cartao_credito</td>\n",
              "      <td>8</td>\n",
              "      <td>-22.19</td>\n",
              "      <td>-48.79</td>\n",
              "    </tr>\n",
              "    <tr>\n",
              "      <th>1</th>\n",
              "      <td>Mesa de jantar</td>\n",
              "      <td>moveis</td>\n",
              "      <td>256.35</td>\n",
              "      <td>11.234305</td>\n",
              "      <td>18/05/2022</td>\n",
              "      <td>Beatriz Moraes</td>\n",
              "      <td>RJ</td>\n",
              "      <td>1</td>\n",
              "      <td>cartao_credito</td>\n",
              "      <td>4</td>\n",
              "      <td>-22.25</td>\n",
              "      <td>-42.66</td>\n",
              "    </tr>\n",
              "    <tr>\n",
              "      <th>2</th>\n",
              "      <td>Jogo de tabuleiro</td>\n",
              "      <td>brinquedos</td>\n",
              "      <td>279.51</td>\n",
              "      <td>21.262681</td>\n",
              "      <td>15/03/2021</td>\n",
              "      <td>João Souza</td>\n",
              "      <td>DF</td>\n",
              "      <td>1</td>\n",
              "      <td>cartao_credito</td>\n",
              "      <td>1</td>\n",
              "      <td>-15.83</td>\n",
              "      <td>-47.86</td>\n",
              "    </tr>\n",
              "    <tr>\n",
              "      <th>3</th>\n",
              "      <td>Micro-ondas</td>\n",
              "      <td>eletrodomesticos</td>\n",
              "      <td>1009.99</td>\n",
              "      <td>54.667344</td>\n",
              "      <td>03/05/2022</td>\n",
              "      <td>João Souza</td>\n",
              "      <td>RS</td>\n",
              "      <td>4</td>\n",
              "      <td>boleto</td>\n",
              "      <td>1</td>\n",
              "      <td>-30.17</td>\n",
              "      <td>-53.50</td>\n",
              "    </tr>\n",
              "    <tr>\n",
              "      <th>4</th>\n",
              "      <td>Cadeira de escritório</td>\n",
              "      <td>moveis</td>\n",
              "      <td>446.99</td>\n",
              "      <td>26.964689</td>\n",
              "      <td>07/11/2020</td>\n",
              "      <td>Larissa Alves</td>\n",
              "      <td>MG</td>\n",
              "      <td>5</td>\n",
              "      <td>boleto</td>\n",
              "      <td>1</td>\n",
              "      <td>-18.10</td>\n",
              "      <td>-44.38</td>\n",
              "    </tr>\n",
              "  </tbody>\n",
              "</table>\n",
              "</div>\n",
              "    <div class=\"colab-df-buttons\">\n",
              "\n",
              "  <div class=\"colab-df-container\">\n",
              "    <button class=\"colab-df-convert\" onclick=\"convertToInteractive('df-185e4709-d47f-44a0-822d-07eca3b24954')\"\n",
              "            title=\"Convert this dataframe to an interactive table.\"\n",
              "            style=\"display:none;\">\n",
              "\n",
              "  <svg xmlns=\"http://www.w3.org/2000/svg\" height=\"24px\" viewBox=\"0 -960 960 960\">\n",
              "    <path d=\"M120-120v-720h720v720H120Zm60-500h600v-160H180v160Zm220 220h160v-160H400v160Zm0 220h160v-160H400v160ZM180-400h160v-160H180v160Zm440 0h160v-160H620v160ZM180-180h160v-160H180v160Zm440 0h160v-160H620v160Z\"/>\n",
              "  </svg>\n",
              "    </button>\n",
              "\n",
              "  <style>\n",
              "    .colab-df-container {\n",
              "      display:flex;\n",
              "      gap: 12px;\n",
              "    }\n",
              "\n",
              "    .colab-df-convert {\n",
              "      background-color: #E8F0FE;\n",
              "      border: none;\n",
              "      border-radius: 50%;\n",
              "      cursor: pointer;\n",
              "      display: none;\n",
              "      fill: #1967D2;\n",
              "      height: 32px;\n",
              "      padding: 0 0 0 0;\n",
              "      width: 32px;\n",
              "    }\n",
              "\n",
              "    .colab-df-convert:hover {\n",
              "      background-color: #E2EBFA;\n",
              "      box-shadow: 0px 1px 2px rgba(60, 64, 67, 0.3), 0px 1px 3px 1px rgba(60, 64, 67, 0.15);\n",
              "      fill: #174EA6;\n",
              "    }\n",
              "\n",
              "    .colab-df-buttons div {\n",
              "      margin-bottom: 4px;\n",
              "    }\n",
              "\n",
              "    [theme=dark] .colab-df-convert {\n",
              "      background-color: #3B4455;\n",
              "      fill: #D2E3FC;\n",
              "    }\n",
              "\n",
              "    [theme=dark] .colab-df-convert:hover {\n",
              "      background-color: #434B5C;\n",
              "      box-shadow: 0px 1px 3px 1px rgba(0, 0, 0, 0.15);\n",
              "      filter: drop-shadow(0px 1px 2px rgba(0, 0, 0, 0.3));\n",
              "      fill: #FFFFFF;\n",
              "    }\n",
              "  </style>\n",
              "\n",
              "    <script>\n",
              "      const buttonEl =\n",
              "        document.querySelector('#df-185e4709-d47f-44a0-822d-07eca3b24954 button.colab-df-convert');\n",
              "      buttonEl.style.display =\n",
              "        google.colab.kernel.accessAllowed ? 'block' : 'none';\n",
              "\n",
              "      async function convertToInteractive(key) {\n",
              "        const element = document.querySelector('#df-185e4709-d47f-44a0-822d-07eca3b24954');\n",
              "        const dataTable =\n",
              "          await google.colab.kernel.invokeFunction('convertToInteractive',\n",
              "                                                    [key], {});\n",
              "        if (!dataTable) return;\n",
              "\n",
              "        const docLinkHtml = 'Like what you see? Visit the ' +\n",
              "          '<a target=\"_blank\" href=https://colab.research.google.com/notebooks/data_table.ipynb>data table notebook</a>'\n",
              "          + ' to learn more about interactive tables.';\n",
              "        element.innerHTML = '';\n",
              "        dataTable['output_type'] = 'display_data';\n",
              "        await google.colab.output.renderOutput(dataTable, element);\n",
              "        const docLink = document.createElement('div');\n",
              "        docLink.innerHTML = docLinkHtml;\n",
              "        element.appendChild(docLink);\n",
              "      }\n",
              "    </script>\n",
              "  </div>\n",
              "\n",
              "\n",
              "<div id=\"df-640d1021-fbf0-4bfa-ac58-2014c3ad18e4\">\n",
              "  <button class=\"colab-df-quickchart\" onclick=\"quickchart('df-640d1021-fbf0-4bfa-ac58-2014c3ad18e4')\"\n",
              "            title=\"Suggest charts\"\n",
              "            style=\"display:none;\">\n",
              "\n",
              "<svg xmlns=\"http://www.w3.org/2000/svg\" height=\"24px\"viewBox=\"0 0 24 24\"\n",
              "     width=\"24px\">\n",
              "    <g>\n",
              "        <path d=\"M19 3H5c-1.1 0-2 .9-2 2v14c0 1.1.9 2 2 2h14c1.1 0 2-.9 2-2V5c0-1.1-.9-2-2-2zM9 17H7v-7h2v7zm4 0h-2V7h2v10zm4 0h-2v-4h2v4z\"/>\n",
              "    </g>\n",
              "</svg>\n",
              "  </button>\n",
              "\n",
              "<style>\n",
              "  .colab-df-quickchart {\n",
              "      --bg-color: #E8F0FE;\n",
              "      --fill-color: #1967D2;\n",
              "      --hover-bg-color: #E2EBFA;\n",
              "      --hover-fill-color: #174EA6;\n",
              "      --disabled-fill-color: #AAA;\n",
              "      --disabled-bg-color: #DDD;\n",
              "  }\n",
              "\n",
              "  [theme=dark] .colab-df-quickchart {\n",
              "      --bg-color: #3B4455;\n",
              "      --fill-color: #D2E3FC;\n",
              "      --hover-bg-color: #434B5C;\n",
              "      --hover-fill-color: #FFFFFF;\n",
              "      --disabled-bg-color: #3B4455;\n",
              "      --disabled-fill-color: #666;\n",
              "  }\n",
              "\n",
              "  .colab-df-quickchart {\n",
              "    background-color: var(--bg-color);\n",
              "    border: none;\n",
              "    border-radius: 50%;\n",
              "    cursor: pointer;\n",
              "    display: none;\n",
              "    fill: var(--fill-color);\n",
              "    height: 32px;\n",
              "    padding: 0;\n",
              "    width: 32px;\n",
              "  }\n",
              "\n",
              "  .colab-df-quickchart:hover {\n",
              "    background-color: var(--hover-bg-color);\n",
              "    box-shadow: 0 1px 2px rgba(60, 64, 67, 0.3), 0 1px 3px 1px rgba(60, 64, 67, 0.15);\n",
              "    fill: var(--button-hover-fill-color);\n",
              "  }\n",
              "\n",
              "  .colab-df-quickchart-complete:disabled,\n",
              "  .colab-df-quickchart-complete:disabled:hover {\n",
              "    background-color: var(--disabled-bg-color);\n",
              "    fill: var(--disabled-fill-color);\n",
              "    box-shadow: none;\n",
              "  }\n",
              "\n",
              "  .colab-df-spinner {\n",
              "    border: 2px solid var(--fill-color);\n",
              "    border-color: transparent;\n",
              "    border-bottom-color: var(--fill-color);\n",
              "    animation:\n",
              "      spin 1s steps(1) infinite;\n",
              "  }\n",
              "\n",
              "  @keyframes spin {\n",
              "    0% {\n",
              "      border-color: transparent;\n",
              "      border-bottom-color: var(--fill-color);\n",
              "      border-left-color: var(--fill-color);\n",
              "    }\n",
              "    20% {\n",
              "      border-color: transparent;\n",
              "      border-left-color: var(--fill-color);\n",
              "      border-top-color: var(--fill-color);\n",
              "    }\n",
              "    30% {\n",
              "      border-color: transparent;\n",
              "      border-left-color: var(--fill-color);\n",
              "      border-top-color: var(--fill-color);\n",
              "      border-right-color: var(--fill-color);\n",
              "    }\n",
              "    40% {\n",
              "      border-color: transparent;\n",
              "      border-right-color: var(--fill-color);\n",
              "      border-top-color: var(--fill-color);\n",
              "    }\n",
              "    60% {\n",
              "      border-color: transparent;\n",
              "      border-right-color: var(--fill-color);\n",
              "    }\n",
              "    80% {\n",
              "      border-color: transparent;\n",
              "      border-right-color: var(--fill-color);\n",
              "      border-bottom-color: var(--fill-color);\n",
              "    }\n",
              "    90% {\n",
              "      border-color: transparent;\n",
              "      border-bottom-color: var(--fill-color);\n",
              "    }\n",
              "  }\n",
              "</style>\n",
              "\n",
              "  <script>\n",
              "    async function quickchart(key) {\n",
              "      const quickchartButtonEl =\n",
              "        document.querySelector('#' + key + ' button');\n",
              "      quickchartButtonEl.disabled = true;  // To prevent multiple clicks.\n",
              "      quickchartButtonEl.classList.add('colab-df-spinner');\n",
              "      try {\n",
              "        const charts = await google.colab.kernel.invokeFunction(\n",
              "            'suggestCharts', [key], {});\n",
              "      } catch (error) {\n",
              "        console.error('Error during call to suggestCharts:', error);\n",
              "      }\n",
              "      quickchartButtonEl.classList.remove('colab-df-spinner');\n",
              "      quickchartButtonEl.classList.add('colab-df-quickchart-complete');\n",
              "    }\n",
              "    (() => {\n",
              "      let quickchartButtonEl =\n",
              "        document.querySelector('#df-640d1021-fbf0-4bfa-ac58-2014c3ad18e4 button');\n",
              "      quickchartButtonEl.style.display =\n",
              "        google.colab.kernel.accessAllowed ? 'block' : 'none';\n",
              "    })();\n",
              "  </script>\n",
              "</div>\n",
              "\n",
              "    </div>\n",
              "  </div>\n"
            ],
            "application/vnd.google.colaboratory.intrinsic+json": {
              "type": "dataframe",
              "variable_name": "loja",
              "summary": "{\n  \"name\": \"loja\",\n  \"rows\": 2359,\n  \"fields\": [\n    {\n      \"column\": \"Produto\",\n      \"properties\": {\n        \"dtype\": \"category\",\n        \"num_unique_values\": 51,\n        \"samples\": [\n          \"Viol\\u00e3o\",\n          \"Bola de basquete\",\n          \"Smartwatch\"\n        ],\n        \"semantic_type\": \"\",\n        \"description\": \"\"\n      }\n    },\n    {\n      \"column\": \"Categoria do Produto\",\n      \"properties\": {\n        \"dtype\": \"category\",\n        \"num_unique_values\": 8,\n        \"samples\": [\n          \"moveis\",\n          \"esporte e lazer\",\n          \"eletronicos\"\n        ],\n        \"semantic_type\": \"\",\n        \"description\": \"\"\n      }\n    },\n    {\n      \"column\": \"Pre\\u00e7o\",\n      \"properties\": {\n        \"dtype\": \"number\",\n        \"std\": 819.5827782539145,\n        \"min\": 10.07,\n        \"max\": 3969.38,\n        \"num_unique_values\": 2315,\n        \"samples\": [\n          446.11,\n          107.31,\n          65.86\n        ],\n        \"semantic_type\": \"\",\n        \"description\": \"\"\n      }\n    },\n    {\n      \"column\": \"Frete\",\n      \"properties\": {\n        \"dtype\": \"number\",\n        \"std\": 43.814183327408166,\n        \"min\": 0.0,\n        \"max\": 214.3770604781,\n        \"num_unique_values\": 2149,\n        \"samples\": [\n          83.815279607,\n          16.069664669,\n          14.0344876928\n        ],\n        \"semantic_type\": \"\",\n        \"description\": \"\"\n      }\n    },\n    {\n      \"column\": \"Data da Compra\",\n      \"properties\": {\n        \"dtype\": \"object\",\n        \"num_unique_values\": 1018,\n        \"samples\": [\n          \"15/09/2022\",\n          \"03/06/2020\",\n          \"06/11/2021\"\n        ],\n        \"semantic_type\": \"\",\n        \"description\": \"\"\n      }\n    },\n    {\n      \"column\": \"Vendedor\",\n      \"properties\": {\n        \"dtype\": \"category\",\n        \"num_unique_values\": 14,\n        \"samples\": [\n          \"Juliana Costa\",\n          \"Mariana Ferreira\",\n          \"Pedro Gomes\"\n        ],\n        \"semantic_type\": \"\",\n        \"description\": \"\"\n      }\n    },\n    {\n      \"column\": \"Local da compra\",\n      \"properties\": {\n        \"dtype\": \"category\",\n        \"num_unique_values\": 26,\n        \"samples\": [\n          \"TO\",\n          \"RN\",\n          \"SP\"\n        ],\n        \"semantic_type\": \"\",\n        \"description\": \"\"\n      }\n    },\n    {\n      \"column\": \"Avalia\\u00e7\\u00e3o da compra\",\n      \"properties\": {\n        \"dtype\": \"number\",\n        \"std\": 1,\n        \"min\": 1,\n        \"max\": 5,\n        \"num_unique_values\": 5,\n        \"samples\": [\n          1,\n          2,\n          5\n        ],\n        \"semantic_type\": \"\",\n        \"description\": \"\"\n      }\n    },\n    {\n      \"column\": \"Tipo de pagamento\",\n      \"properties\": {\n        \"dtype\": \"category\",\n        \"num_unique_values\": 4,\n        \"samples\": [\n          \"boleto\",\n          \"cartao_debito\",\n          \"cartao_credito\"\n        ],\n        \"semantic_type\": \"\",\n        \"description\": \"\"\n      }\n    },\n    {\n      \"column\": \"Quantidade de parcelas\",\n      \"properties\": {\n        \"dtype\": \"number\",\n        \"std\": 2,\n        \"min\": 1,\n        \"max\": 24,\n        \"num_unique_values\": 15,\n        \"samples\": [\n          7,\n          14,\n          8\n        ],\n        \"semantic_type\": \"\",\n        \"description\": \"\"\n      }\n    },\n    {\n      \"column\": \"lat\",\n      \"properties\": {\n        \"dtype\": \"number\",\n        \"std\": 5.372399916530833,\n        \"min\": -30.17,\n        \"max\": 1.41,\n        \"num_unique_values\": 26,\n        \"samples\": [\n          -9.46,\n          -5.81,\n          -22.19\n        ],\n        \"semantic_type\": \"\",\n        \"description\": \"\"\n      }\n    },\n    {\n      \"column\": \"lon\",\n      \"properties\": {\n        \"dtype\": \"number\",\n        \"std\": 4.183180020544179,\n        \"min\": -70.55,\n        \"max\": -36.59,\n        \"num_unique_values\": 26,\n        \"samples\": [\n          -48.26,\n          -36.59,\n          -48.79\n        ],\n        \"semantic_type\": \"\",\n        \"description\": \"\"\n      }\n    }\n  ]\n}"
            }
          },
          "metadata": {},
          "execution_count": 1
        }
      ],
      "source": [
        "import pandas as pd\n",
        "\n",
        "url = \"https://raw.githubusercontent.com/alura-es-cursos/challenge1-data-science/refs/heads/main/base-de-dados-challenge-1/loja_1.csv\"\n",
        "url2 = \"https://raw.githubusercontent.com/alura-es-cursos/challenge1-data-science/refs/heads/main/base-de-dados-challenge-1/loja_2.csv\"\n",
        "url3 = \"https://raw.githubusercontent.com/alura-es-cursos/challenge1-data-science/refs/heads/main/base-de-dados-challenge-1/loja_3.csv\"\n",
        "url4 = \"https://raw.githubusercontent.com/alura-es-cursos/challenge1-data-science/refs/heads/main/base-de-dados-challenge-1/loja_4.csv\"\n",
        "\n",
        "loja = pd.read_csv(url)\n",
        "loja2 = pd.read_csv(url2)\n",
        "loja3 = pd.read_csv(url3)\n",
        "loja4 = pd.read_csv(url4)\n",
        "\n",
        "loja.head()"
      ]
    },
    {
      "cell_type": "markdown",
      "source": [
        "#1. Análise do faturamento\n"
      ],
      "metadata": {
        "id": "X62IW3KFUIYm"
      }
    },
    {
      "cell_type": "markdown",
      "source": [
        "Análise do faturamento: Loja 1"
      ],
      "metadata": {
        "id": "7WWfmkXYINoZ"
      }
    },
    {
      "cell_type": "code",
      "source": [
        "faturamento_total_loja = round(sum(loja['Preço']), 2)\n",
        "print(f'Faturamento da Loja 1 = R${faturamento_total_loja}')"
      ],
      "metadata": {
        "id": "xykobSftV64I",
        "colab": {
          "base_uri": "https://localhost:8080/"
        },
        "outputId": "35696e15-9cb9-4172-ad49-2175a35fe161"
      },
      "execution_count": 2,
      "outputs": [
        {
          "output_type": "stream",
          "name": "stdout",
          "text": [
            "Faturamento da Loja 1 = R$1534509.12\n"
          ]
        }
      ]
    },
    {
      "cell_type": "markdown",
      "source": [
        "Análise do faturamento: Loja 2"
      ],
      "metadata": {
        "id": "AX-oixg3IZXp"
      }
    },
    {
      "cell_type": "code",
      "source": [
        "faturamento_total_loja2 = round(sum(loja2['Preço']), 2)\n",
        "print(f'Faturamento da Loja 2 = R${faturamento_total_loja2}')"
      ],
      "metadata": {
        "id": "KDyr8E71V3m-",
        "colab": {
          "base_uri": "https://localhost:8080/"
        },
        "outputId": "796dba29-711d-4666-bcf7-8976f5589768"
      },
      "execution_count": 3,
      "outputs": [
        {
          "output_type": "stream",
          "name": "stdout",
          "text": [
            "Faturamento da Loja 2 = R$1488459.06\n"
          ]
        }
      ]
    },
    {
      "cell_type": "markdown",
      "source": [
        "Análise do faturamento: Loja 3"
      ],
      "metadata": {
        "id": "KK7RwwgeIeHn"
      }
    },
    {
      "cell_type": "code",
      "source": [
        "faturamento_total_loja3 = round(sum(loja3['Preço']), 2)\n",
        "print(f'Faturamento da Loja 3 = R${faturamento_total_loja3}')"
      ],
      "metadata": {
        "colab": {
          "base_uri": "https://localhost:8080/"
        },
        "id": "DbKk3l0gPXwa",
        "outputId": "48de0ab3-807d-43a8-ef57-382f21f31409"
      },
      "execution_count": 4,
      "outputs": [
        {
          "output_type": "stream",
          "name": "stdout",
          "text": [
            "Faturamento da Loja 3 = R$1464025.03\n"
          ]
        }
      ]
    },
    {
      "cell_type": "markdown",
      "source": [
        "Análise do faturamento: Loja 4"
      ],
      "metadata": {
        "id": "HYHEpwJaIhVA"
      }
    },
    {
      "cell_type": "code",
      "source": [
        "faturamento_total_loja4 = round(sum(loja4['Preço']), 2)\n",
        "print(f'Faturamento da Loja 4 = R${faturamento_total_loja4}')"
      ],
      "metadata": {
        "id": "zAgKh56MPeEY",
        "outputId": "59310bdf-df17-48bf-9f52-44b0524a1953",
        "colab": {
          "base_uri": "https://localhost:8080/"
        }
      },
      "execution_count": 5,
      "outputs": [
        {
          "output_type": "stream",
          "name": "stdout",
          "text": [
            "Faturamento da Loja 4 = R$1384497.58\n"
          ]
        }
      ]
    },
    {
      "cell_type": "markdown",
      "source": [
        "# 2. Vendas por Categoria\n"
      ],
      "metadata": {
        "id": "2V_vcAPzWZmR"
      }
    },
    {
      "cell_type": "markdown",
      "source": [
        "Vendas por Categoria: Loja 1"
      ],
      "metadata": {
        "id": "jfaNaYmwdenh"
      }
    },
    {
      "cell_type": "code",
      "source": [
        "categorias_1 = loja['Categoria do Produto']\n",
        "produtos_1 = loja['Produto']\n",
        "\n",
        "prod_categoria_1 = list(zip(categorias_1, produtos_1))\n",
        "\n",
        "vendas_categoria_1 = {}\n",
        "\n",
        "for categoria, produto in prod_categoria_1:\n",
        "  if categoria in vendas_categoria_1:\n",
        "    vendas_categoria_1[categoria] += 1\n",
        "  else:\n",
        "    vendas_categoria_1[categoria] = 1\n",
        "\n",
        "print(f'Vendas por categoria na loja 1: {vendas_categoria_1}')"
      ],
      "metadata": {
        "id": "A34YupIuYhfF",
        "colab": {
          "base_uri": "https://localhost:8080/"
        },
        "outputId": "ab96c568-c4b1-4c2c-ab65-af2d3c2b8e54"
      },
      "execution_count": 6,
      "outputs": [
        {
          "output_type": "stream",
          "name": "stdout",
          "text": [
            "Vendas por categoria na loja 1: {'eletronicos': 448, 'moveis': 465, 'brinquedos': 324, 'eletrodomesticos': 312, 'utilidades domesticas': 171, 'esporte e lazer': 284, 'livros': 173, 'instrumentos musicais': 182}\n"
          ]
        }
      ]
    },
    {
      "cell_type": "markdown",
      "source": [
        "Vendas por Categoria: Loja 2"
      ],
      "metadata": {
        "id": "t-SSjJpIdjTZ"
      }
    },
    {
      "cell_type": "code",
      "source": [
        "categorias_2 = loja2['Categoria do Produto']\n",
        "produtos_2 = loja2['Produto']\n",
        "\n",
        "prod_categoria_2 = list(zip(categorias_2, produtos_2))\n",
        "\n",
        "vendas_categoria_2 = {}\n",
        "\n",
        "for categoria, produto in prod_categoria_2:\n",
        "  if categoria in vendas_categoria_2:\n",
        "    vendas_categoria_2[categoria] += 1\n",
        "  else:\n",
        "    vendas_categoria_2[categoria] = 1\n",
        "\n",
        "print(f'Vendas por categoria na loja 2: {vendas_categoria_2}')"
      ],
      "metadata": {
        "id": "yZR6cOjXYSk1",
        "colab": {
          "base_uri": "https://localhost:8080/"
        },
        "outputId": "44296f8a-5bda-4805-e6ab-87113287be2b"
      },
      "execution_count": 7,
      "outputs": [
        {
          "output_type": "stream",
          "name": "stdout",
          "text": [
            "Vendas por categoria na loja 2: {'moveis': 442, 'instrumentos musicais': 224, 'esporte e lazer': 275, 'eletronicos': 422, 'utilidades domesticas': 181, 'brinquedos': 313, 'eletrodomesticos': 305, 'livros': 197}\n"
          ]
        }
      ]
    },
    {
      "cell_type": "markdown",
      "source": [
        "Vendas por Categoria: Loja 3"
      ],
      "metadata": {
        "id": "_MIDy0jvdlIp"
      }
    },
    {
      "cell_type": "code",
      "source": [
        "categorias_3 = loja3['Categoria do Produto']\n",
        "produtos_3 = loja3['Produto']\n",
        "\n",
        "prod_categoria_3 = list(zip(categorias_3, produtos_3))\n",
        "\n",
        "vendas_categoria_3 = {}\n",
        "\n",
        "for categoria, produto in prod_categoria_3:\n",
        "  if categoria in vendas_categoria_3:\n",
        "    vendas_categoria_3[categoria] += 1\n",
        "  else:\n",
        "    vendas_categoria_3[categoria] = 1\n",
        "\n",
        "print(f'Vendas por categoria na loja 3: {vendas_categoria_3}')"
      ],
      "metadata": {
        "colab": {
          "base_uri": "https://localhost:8080/"
        },
        "id": "P1x-a7q5cuuT",
        "outputId": "fc6143b3-9c84-4029-f6b8-fd95887534ac"
      },
      "execution_count": 8,
      "outputs": [
        {
          "output_type": "stream",
          "name": "stdout",
          "text": [
            "Vendas por categoria na loja 3: {'eletrodomesticos': 278, 'moveis': 499, 'instrumentos musicais': 177, 'esporte e lazer': 277, 'eletronicos': 451, 'brinquedos': 315, 'utilidades domesticas': 177, 'livros': 185}\n"
          ]
        }
      ]
    },
    {
      "cell_type": "markdown",
      "source": [
        "Vendas por Categoria: Loja 4"
      ],
      "metadata": {
        "id": "jarzKaAodnf6"
      }
    },
    {
      "cell_type": "code",
      "source": [
        "categorias_4 = loja4['Categoria do Produto']\n",
        "produtos_4 = loja4['Produto']\n",
        "\n",
        "prod_categoria_4 = list(zip(categorias_4, produtos_4))\n",
        "\n",
        "vendas_categoria_4 = {}\n",
        "\n",
        "for categoria, produto in prod_categoria_4:\n",
        "  if categoria in vendas_categoria_4:\n",
        "    vendas_categoria_4[categoria] += 1\n",
        "  else:\n",
        "    vendas_categoria_4[categoria] = 1\n",
        "\n",
        "print(f'Vendas por categoria na loja 4: {vendas_categoria_4}')"
      ],
      "metadata": {
        "colab": {
          "base_uri": "https://localhost:8080/"
        },
        "id": "NP4GUKw-c6M4",
        "outputId": "240c06c5-df2a-41f6-ac87-913b658f5e68"
      },
      "execution_count": 9,
      "outputs": [
        {
          "output_type": "stream",
          "name": "stdout",
          "text": [
            "Vendas por categoria na loja 4: {'eletrodomesticos': 254, 'moveis': 480, 'esporte e lazer': 277, 'livros': 187, 'eletronicos': 451, 'instrumentos musicais': 170, 'brinquedos': 338, 'utilidades domesticas': 201}\n"
          ]
        }
      ]
    },
    {
      "cell_type": "markdown",
      "source": [
        "# 3. Média de Avaliação das Lojas"
      ],
      "metadata": {
        "id": "Rq6tU_xSY3jk"
      }
    },
    {
      "cell_type": "markdown",
      "source": [
        "Média de Avaliação: Loja 1"
      ],
      "metadata": {
        "id": "Ix_CqLPvRbrs"
      }
    },
    {
      "cell_type": "code",
      "source": [
        "media_avaliacao_loja1 = round(sum(loja['Avaliação da compra']) / len(loja['Avaliação da compra']), 2)\n",
        "\n",
        "print(f'Média de avaliação da loja 1: {media_avaliacao_loja1}')"
      ],
      "metadata": {
        "id": "bh3jjjJwY5MU",
        "colab": {
          "base_uri": "https://localhost:8080/"
        },
        "outputId": "96f28f57-feb0-4d07-e53b-ccfd230679e7"
      },
      "execution_count": 10,
      "outputs": [
        {
          "output_type": "stream",
          "name": "stdout",
          "text": [
            "Média de avaliação da loja 1: 3.98\n"
          ]
        }
      ]
    },
    {
      "cell_type": "markdown",
      "source": [
        "Média de Avaliação: Loja 2"
      ],
      "metadata": {
        "id": "9EL_KbepRfRu"
      }
    },
    {
      "cell_type": "code",
      "source": [
        "media_avaliacao_loja2 = round(sum(loja2['Avaliação da compra']) / len(loja2['Avaliação da compra']), 2)\n",
        "\n",
        "print(f'Média de avaliação da loja : {media_avaliacao_loja2}')"
      ],
      "metadata": {
        "id": "I0KkjPoTY88F",
        "colab": {
          "base_uri": "https://localhost:8080/"
        },
        "outputId": "97367deb-772f-42d8-db63-6274ec95da01"
      },
      "execution_count": 11,
      "outputs": [
        {
          "output_type": "stream",
          "name": "stdout",
          "text": [
            "Média de avaliação da loja : 4.04\n"
          ]
        }
      ]
    },
    {
      "cell_type": "markdown",
      "source": [
        "Média de Avaliação: Loja 3"
      ],
      "metadata": {
        "id": "au96GVXrRhFl"
      }
    },
    {
      "cell_type": "code",
      "source": [
        "media_avaliacao_loja3 = round(sum(loja3['Avaliação da compra']) / len(loja3['Avaliação da compra']), 2)\n",
        "\n",
        "print(f'Média de avaliação da loja 3: {media_avaliacao_loja3}')"
      ],
      "metadata": {
        "colab": {
          "base_uri": "https://localhost:8080/"
        },
        "id": "smkU1AmsRER1",
        "outputId": "09dd99f4-cbc6-43a5-ebec-b8df1236dcbe"
      },
      "execution_count": 12,
      "outputs": [
        {
          "output_type": "stream",
          "name": "stdout",
          "text": [
            "Média de avaliação da loja 3: 4.05\n"
          ]
        }
      ]
    },
    {
      "cell_type": "markdown",
      "source": [
        "Média de Avaliação: Loja 4"
      ],
      "metadata": {
        "id": "vn_T6BjCRia_"
      }
    },
    {
      "cell_type": "code",
      "source": [
        "media_avaliacao_loja4 = round(sum(loja4['Avaliação da compra']) / len(loja4['Avaliação da compra']), 2)\n",
        "\n",
        "print(f'Média de avaliação da loja 4: {media_avaliacao_loja4}')"
      ],
      "metadata": {
        "colab": {
          "base_uri": "https://localhost:8080/"
        },
        "id": "gUQ7O12iRHlp",
        "outputId": "cb41fc49-3d21-4a10-d04b-0ae7f340e10d"
      },
      "execution_count": 13,
      "outputs": [
        {
          "output_type": "stream",
          "name": "stdout",
          "text": [
            "Média de avaliação da loja 4: 4.0\n"
          ]
        }
      ]
    },
    {
      "cell_type": "markdown",
      "source": [
        "# 4. Produtos Mais e Menos Vendidos"
      ],
      "metadata": {
        "id": "DmNp1KPBZCm-"
      }
    },
    {
      "cell_type": "code",
      "source": [
        "produtos_1 = loja['Produto']\n",
        "\n",
        "vendas_produto_1 = {}\n",
        "\n",
        "for produto in produtos_1:\n",
        "  if produto in vendas_produto_1:\n",
        "    vendas_produto_1[produto] += 1\n",
        "  else:\n",
        "    vendas_produto_1[produto] = 1\n",
        "\n",
        "print(f'Vendas por produto na loja 1: {vendas_produto_1}')\n",
        "\n",
        "prod_mais_vendido1 = max(vendas_produto_1, key=vendas_produto_1.get)\n",
        "prod_menos_vendido1 = min(vendas_produto_1, key=vendas_produto_1.get)\n",
        "\n",
        "print(f'Produto mais vendido na loja 1: {prod_mais_vendido1}')\n",
        "print(f'Produto menos vendido na loja 1: {prod_menos_vendido1}')"
      ],
      "metadata": {
        "id": "qoyjqijQZHfF",
        "colab": {
          "base_uri": "https://localhost:8080/"
        },
        "outputId": "040348cc-28ad-40c0-afe7-267af00431a0"
      },
      "execution_count": 44,
      "outputs": [
        {
          "output_type": "stream",
          "name": "stdout",
          "text": [
            "Vendas por produto na loja 1: {'Assistente virtual': 40, 'Mesa de jantar': 40, 'Jogo de tabuleiro': 43, 'Micro-ondas': 60, 'Cadeira de escritório': 46, 'Blocos de montar': 56, 'Boneca bebê': 40, 'Lava louças': 48, 'Lavadora de roupas': 47, 'Carrinho controle remoto': 52, 'Geladeira': 54, 'Fone de ouvido': 50, 'Panela de pressão': 35, 'Bicicleta': 54, 'Ciência de dados com python': 39, 'Bola de vôlei': 42, 'Xadrez de madeira': 49, 'TV Led UHD 4K': 60, 'Copo térmico': 54, 'Kit banquetas': 44, 'Dashboards com Power BI': 42, 'Faqueiro': 52, 'Jogo de panelas': 43, 'Bateria': 53, 'Corda de pular': 40, 'Fogão': 45, 'Cama box': 44, 'Impressora': 54, 'Cômoda': 56, 'Guarda roupas': 60, 'Dinossauro Rex': 40, 'Guitarra': 47, 'Secadora de roupas': 58, 'Sofá retrátil': 46, 'Tablet ABXY': 42, 'Cubo mágico 8x8': 44, 'Jogo de copos': 41, 'Modelagem preditiva': 51, 'Celular Plus X42': 49, 'Mochila': 39, 'Bola de basquete': 55, 'Headset': 33, 'Poltrona': 41, 'Violão': 46, 'Iniciando em programação': 41, 'Celular ABXY': 33, 'Smartwatch': 43, 'Mesa de centro': 44, 'Cama king': 44, 'Smart TV': 44, 'Pandeiro': 36}\n",
            "Produto mais vendido na loja 1: Micro-ondas\n",
            "Produto menos vendido na loja 1: Headset\n"
          ]
        }
      ]
    },
    {
      "cell_type": "code",
      "source": [
        "produtos_2 = loja2['Produto']\n",
        "\n",
        "vendas_produto_2 = {}\n",
        "\n",
        "for produto in produtos_2:\n",
        "  if produto in vendas_produto_2:\n",
        "    vendas_produto_2[produto] += 1\n",
        "  else:\n",
        "    vendas_produto_2[produto] = 1\n",
        "\n",
        "print(f'Vendas por produto na loja 2: {vendas_produto_2}')\n",
        "\n",
        "prod_mais_vendido2 = max(vendas_produto_2, key=vendas_produto_2.get)\n",
        "prod_menos_vendido2 = min(vendas_produto_2, key=vendas_produto_2.get)\n",
        "\n",
        "print(f'Produto mais vendido na loja 2: {prod_mais_vendido2}')\n",
        "print(f'Produto menos vendido na loja 2: {prod_menos_vendido2}')"
      ],
      "metadata": {
        "id": "0Sw3sd4IZIGW",
        "colab": {
          "base_uri": "https://localhost:8080/"
        },
        "outputId": "c6280d55-610e-4b27-ca98-b41112dc6976"
      },
      "execution_count": 45,
      "outputs": [
        {
          "output_type": "stream",
          "name": "stdout",
          "text": [
            "Vendas por produto na loja 2: {'Cadeira de escritório': 49, 'Pandeiro': 58, 'Cama king': 45, 'Violão': 58, 'Mochila': 45, 'Tablet ABXY': 44, 'Panela de pressão': 44, 'Cubo mágico 8x8': 45, 'Secadora de roupas': 57, 'Jogo de tabuleiro': 32, 'Xadrez de madeira': 45, 'Bicicleta': 45, 'Modelagem preditiva': 46, 'Dashboards com Power BI': 43, 'Corda de pular': 50, 'Jogo de copos': 46, 'Boneca bebê': 48, 'Ciência de dados com python': 43, 'Lava louças': 46, 'Blocos de montar': 54, 'Copo térmico': 47, 'Faqueiro': 39, 'Fogão': 42, 'Jogo de panelas': 52, 'TV Led UHD 4K': 45, 'Poltrona': 35, 'Guitarra': 47, 'Headset': 44, 'Dinossauro Rex': 42, 'Smart TV': 40, 'Guarda roupas': 54, 'Geladeira': 49, 'Mesa de centro': 45, 'Lavadora de roupas': 49, 'Bateria': 61, 'Celular ABXY': 41, 'Bola de basquete': 42, 'Mesa de jantar': 34, 'Kit banquetas': 45, 'Cama box': 47, 'Bola de vôlei': 46, 'Assistente virtual': 38, 'Sofá retrátil': 44, 'Carrinho controle remoto': 47, 'Fone de ouvido': 37, 'Micro-ondas': 62, 'Smartwatch': 44, 'Iniciando em programação': 65, 'Cômoda': 44, 'Impressora': 34, 'Celular Plus X42': 55}\n",
            "Produto mais vendido na loja 2: Iniciando em programação\n",
            "Produto menos vendido na loja 2: Jogo de tabuleiro\n"
          ]
        }
      ]
    },
    {
      "cell_type": "code",
      "source": [
        "produtos_3 = loja3['Produto']\n",
        "\n",
        "vendas_produto_3 = {}\n",
        "\n",
        "for produto in produtos_3:\n",
        "  if produto in vendas_produto_3:\n",
        "    vendas_produto_3[produto] += 1\n",
        "  else:\n",
        "    vendas_produto_3[produto] = 1\n",
        "\n",
        "print(f'Vendas por produto na loja 3: {vendas_produto_3}')\n",
        "\n",
        "prod_mais_vendido3 = max(vendas_produto_1, key=vendas_produto_3.get)\n",
        "prod_menos_vendido3 = min(vendas_produto_1, key=vendas_produto_3.get)\n",
        "\n",
        "print(f'Produto mais vendido na loja 3: {prod_mais_vendido3}')\n",
        "print(f'Produto menos vendido na loja 3: {prod_menos_vendido3}')"
      ],
      "metadata": {
        "colab": {
          "base_uri": "https://localhost:8080/"
        },
        "id": "aV78siBCgjrG",
        "outputId": "ea3a12d1-675c-4809-8e39-cf1fe864be7e"
      },
      "execution_count": 46,
      "outputs": [
        {
          "output_type": "stream",
          "name": "stdout",
          "text": [
            "Vendas por produto na loja 3: {'Secadora de roupas': 45, 'Cômoda': 55, 'Violão': 47, 'Bola de vôlei': 48, 'Guarda roupas': 49, 'Impressora': 50, 'Carrinho controle remoto': 52, 'Cadeira de escritório': 46, 'Pandeiro': 51, 'Faqueiro': 39, 'Boneca bebê': 39, 'Fone de ouvido': 43, 'Jogo de copos': 36, 'TV Led UHD 4K': 42, 'Panela de pressão': 47, 'Lavadora de roupas': 42, 'Jogo de panelas': 55, 'Dinossauro Rex': 46, 'Modelagem preditiva': 53, 'Mesa de jantar': 56, 'Dashboards com Power BI': 40, 'Kit banquetas': 57, 'Corda de pular': 53, 'Iniciando em programação': 46, 'Bola de basquete': 50, 'Fogão': 53, 'Bicicleta': 52, 'Lava louças': 52, 'Smart TV': 54, 'Mochila': 36, 'Tablet ABXY': 48, 'Mesa de centro': 42, 'Cama box': 46, 'Xadrez de madeira': 47, 'Celular Plus X42': 46, 'Cama king': 56, 'Smartwatch': 46, 'Ciência de dados com python': 46, 'Geladeira': 50, 'Headset': 39, 'Jogo de tabuleiro': 52, 'Bateria': 41, 'Guitarra': 38, 'Sofá retrátil': 45, 'Poltrona': 47, 'Assistente virtual': 39, 'Copo térmico': 38, 'Celular ABXY': 44, 'Micro-ondas': 36, 'Cubo mágico 8x8': 44, 'Blocos de montar': 35}\n",
            "Produto mais vendido na loja 3: Kit banquetas\n",
            "Produto menos vendido na loja 3: Blocos de montar\n"
          ]
        }
      ]
    },
    {
      "cell_type": "code",
      "source": [
        "produtos_4 = loja4['Produto']\n",
        "\n",
        "vendas_produto_4 = {}\n",
        "\n",
        "for produto in produtos_4:\n",
        "  if produto in vendas_produto_4:\n",
        "    vendas_produto_4[produto] += 1\n",
        "  else:\n",
        "    vendas_produto_4[produto] = 1\n",
        "\n",
        "print(f'Vendas por produto na loja 4: {vendas_produto_4}')\n",
        "\n",
        "prod_mais_vendido4 = max(vendas_produto_4, key=vendas_produto_4.get)\n",
        "prod_menos_vendido4 = min(vendas_produto_4, key=vendas_produto_4.get)\n",
        "\n",
        "print(f'Produto mais vendido na loja 4: {prod_mais_vendido4}')\n",
        "print(f'Produto menos vendido na loja 4: {prod_menos_vendido4}')"
      ],
      "metadata": {
        "colab": {
          "base_uri": "https://localhost:8080/"
        },
        "id": "sUEOi-XPmgaQ",
        "outputId": "4a411a84-6bd4-46b4-a85b-c8e86fc71f9d"
      },
      "execution_count": 47,
      "outputs": [
        {
          "output_type": "stream",
          "name": "stdout",
          "text": [
            "Vendas por produto na loja 4: {'Lava louças': 43, 'Cama box': 62, 'Bola de basquete': 50, 'Modelagem preditiva': 50, 'Fone de ouvido': 44, 'Geladeira': 38, 'Guitarra': 33, 'Headset': 42, 'Celular Plus X42': 48, 'Cômoda': 55, 'Boneca bebê': 48, 'Dashboards com Power BI': 56, 'Cadeira de escritório': 40, 'Kit banquetas': 42, 'Impressora': 50, 'Jogo de copos': 46, 'Mesa de jantar': 55, 'Carrinho controle remoto': 55, 'Corda de pular': 43, 'Fogão': 47, 'Cama king': 56, 'Bola de vôlei': 48, 'Secadora de roupas': 40, 'Dinossauro Rex': 47, 'TV Led UHD 4K': 40, 'Copo térmico': 48, 'Smart TV': 54, 'Mesa de centro': 44, 'Tablet ABXY': 45, 'Panela de pressão': 46, 'Bateria': 48, 'Pandeiro': 52, 'Iniciando em programação': 43, 'Jogo de tabuleiro': 48, 'Celular ABXY': 39, 'Faqueiro': 59, 'Guarda roupas': 34, 'Blocos de montar': 54, 'Bicicleta': 45, 'Assistente virtual': 50, 'Jogo de panelas': 50, 'Violão': 37, 'Xadrez de madeira': 39, 'Micro-ondas': 48, 'Smartwatch': 39, 'Mochila': 43, 'Lavadora de roupas': 38, 'Ciência de dados com python': 38, 'Cubo mágico 8x8': 47, 'Poltrona': 45, 'Sofá retrátil': 47}\n",
            "Produto mais vendido na loja 4: Cama box\n",
            "Produto menos vendido na loja 4: Guitarra\n"
          ]
        }
      ]
    },
    {
      "cell_type": "markdown",
      "source": [
        "# 5. Frete Médio por Loja\n"
      ],
      "metadata": {
        "id": "Fl0cGi3bZKqU"
      }
    },
    {
      "cell_type": "code",
      "source": [
        "frete_medio_loja1 = round(sum(loja['Frete']) / len(loja['Frete']), 2)\n",
        "\n",
        "print(f'Frete médio da loja 1: R${frete_medio_loja1}')"
      ],
      "metadata": {
        "id": "S2JeaCykZNy9"
      },
      "execution_count": null,
      "outputs": []
    },
    {
      "cell_type": "code",
      "source": [
        "frete_medio_loja2 = round(sum(loja2['Frete']) / len(loja2['Frete']), 2)\n",
        "\n",
        "print(f'Frete médio da loja 2: R${frete_medio_loja2}')"
      ],
      "metadata": {
        "id": "0tSdCie9ZQlt"
      },
      "execution_count": null,
      "outputs": []
    },
    {
      "cell_type": "code",
      "source": [
        "frete_medio_loja3 = round(sum(loja3['Frete']) / len(loja3['Frete']), 2)\n",
        "\n",
        "print(f'Frete médio da loja 3: R${frete_medio_loja3}')"
      ],
      "metadata": {
        "id": "2RUc28-NSaf2"
      },
      "execution_count": null,
      "outputs": []
    },
    {
      "cell_type": "code",
      "source": [
        "frete_medio_loja4 = round(sum(loja4['Frete']) / len(loja4['Frete']), 2)\n",
        "\n",
        "print(f'Frete médio da loja 4: R${frete_medio_loja4}')"
      ],
      "metadata": {
        "id": "D8dWs13NSeaa"
      },
      "execution_count": null,
      "outputs": []
    },
    {
      "cell_type": "markdown",
      "source": [
        "##Resultados"
      ],
      "metadata": {
        "id": "1QoXj_UJp7QJ"
      }
    }
  ]
}